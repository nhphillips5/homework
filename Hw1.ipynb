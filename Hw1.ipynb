{
 "cells": [
  {
   "cell_type": "markdown",
   "metadata": {},
   "source": [
    "**1.  Write a Python function that will compute the Euclidean distance between any two points (x<sub>1</sub>, y<sub>1</sub>) and (x<sub>2</sub>, y<sub>2</sub>).  Use your function to find the distance between (1,3) and (7,11).** "
   ]
  },
  {
   "cell_type": "code",
   "execution_count": 11,
   "metadata": {},
   "outputs": [],
   "source": [
    "import numpy as np\n",
    "def dis(x1,y1,x2,y2):\n",
    "    ans = np.sqrt(((x2-x1)**2)+((y2-y1)**2))\n",
    "    return ans"
   ]
  },
  {
   "cell_type": "code",
   "execution_count": 12,
   "metadata": {},
   "outputs": [
    {
     "data": {
      "text/plain": [
       "10.0"
      ]
     },
     "execution_count": 12,
     "metadata": {},
     "output_type": "execute_result"
    }
   ],
   "source": [
    "dis(1,3,7,11)"
   ]
  },
  {
   "cell_type": "code",
   "execution_count": null,
   "metadata": {},
   "outputs": [],
   "source": [
    "# The distance between the two points, (1,3) and (7,11), is 10 units."
   ]
  },
  {
   "cell_type": "markdown",
   "metadata": {},
   "source": [
    "-----\n",
    "**2. Write a Python function that computes the value of ``n + nn + nnn`` where ``n`` is an integer.  For example if,  ``n=2``, the function should return ``246`` (which is the sum of 2+22+222).**  "
   ]
  },
  {
   "cell_type": "markdown",
   "metadata": {},
   "source": [
    "Example output:\n",
    "```\n",
    "In [1]: your_function(2)\n",
    "Out[1]: 246\n",
    "```"
   ]
  },
  {
   "cell_type": "code",
   "execution_count": 18,
   "metadata": {},
   "outputs": [],
   "source": [
    "def add_stuff(n):\n",
    "    nn = n * 11\n",
    "    nnn = n * 111\n",
    "    ans = n + nn + nnn\n",
    "    return ans"
   ]
  },
  {
   "cell_type": "code",
   "execution_count": 19,
   "metadata": {},
   "outputs": [
    {
     "data": {
      "text/plain": [
       "246"
      ]
     },
     "execution_count": 19,
     "metadata": {},
     "output_type": "execute_result"
    }
   ],
   "source": [
    "add_stuff(2)"
   ]
  },
  {
   "cell_type": "code",
   "execution_count": null,
   "metadata": {},
   "outputs": [],
   "source": []
  },
  {
   "cell_type": "markdown",
   "metadata": {},
   "source": [
    "-----\n",
    "**3. Write a Python function that determines if ``n`` is a perfect square, where ``n`` is an integer.  The function return either \"False\" or \"n is a perfect square of x\"  (where ``n`` and ``x`` are appropriate for the input).**"
   ]
  },
  {
   "cell_type": "markdown",
   "metadata": {},
   "source": [
    "Example output:\n",
    "\n",
    "```\n",
    "In [1]: your_function(24)\n",
    "Out[1]: False\n",
    "\n",
    "In [2]: your_function(25)\n",
    "Out[2]: 25 is a perfect square of 5\n",
    "```"
   ]
  },
  {
   "cell_type": "code",
   "execution_count": 5,
   "metadata": {},
   "outputs": [],
   "source": [
    "import math\n",
    "\n",
    "def is_perf_sqr(n):\n",
    "    root = math.sqrt(n)\n",
    "    if math.floor(root) ** 2 == n:\n",
    "        print(f\"{n} is a perfect square of {int(root)}\")\n",
    "    else:\n",
    "        print(\"False\")\n",
    "    return"
   ]
  },
  {
   "cell_type": "code",
   "execution_count": 6,
   "metadata": {},
   "outputs": [
    {
     "name": "stdout",
     "output_type": "stream",
     "text": [
      "False\n"
     ]
    }
   ],
   "source": [
    "is_perf_sqr(24)"
   ]
  },
  {
   "cell_type": "code",
   "execution_count": 7,
   "metadata": {},
   "outputs": [
    {
     "name": "stdout",
     "output_type": "stream",
     "text": [
      "25 is a perfect square of 5\n"
     ]
    }
   ],
   "source": [
    "is_perf_sqr(25)"
   ]
  },
  {
   "cell_type": "markdown",
   "metadata": {},
   "source": [
    "----\n",
    "**4. Write a Python function that checks whether a string is a palindrome or not.  A palindrome is a word or phrase that reads the same forwards and backwards (ignoring spaces), such as \"madam\" or \"nurses run\".** "
   ]
  },
  {
   "cell_type": "markdown",
   "metadata": {},
   "source": [
    "Example output:\n",
    "\n",
    "```\n",
    "In [1]: your_function('madam')\n",
    "Out[1]: True\n",
    "\n",
    "In [2]: your_function('nurses run')\n",
    "Out[2]: True\n",
    "\n",
    "In [3]: your_function('starlight')\n",
    "Out[3]: False\n",
    "```\n"
   ]
  },
  {
   "cell_type": "code",
   "execution_count": 51,
   "metadata": {},
   "outputs": [],
   "source": [
    "def is_palind(string):\n",
    "    spaceless = string.split()\n",
    "    spaceless = ''.join(spaceless)\n",
    "    backwards = spaceless[::-1]\n",
    "    return backwards == spaceless"
   ]
  },
  {
   "cell_type": "code",
   "execution_count": 52,
   "metadata": {},
   "outputs": [
    {
     "data": {
      "text/plain": [
       "True"
      ]
     },
     "execution_count": 52,
     "metadata": {},
     "output_type": "execute_result"
    }
   ],
   "source": [
    "is_palind('madam')"
   ]
  },
  {
   "cell_type": "code",
   "execution_count": 53,
   "metadata": {},
   "outputs": [
    {
     "data": {
      "text/plain": [
       "True"
      ]
     },
     "execution_count": 53,
     "metadata": {},
     "output_type": "execute_result"
    }
   ],
   "source": [
    "is_palind('nurses run')"
   ]
  },
  {
   "cell_type": "code",
   "execution_count": 55,
   "metadata": {},
   "outputs": [
    {
     "data": {
      "text/plain": [
       "False"
      ]
     },
     "execution_count": 55,
     "metadata": {},
     "output_type": "execute_result"
    }
   ],
   "source": [
    "is_palind('starlight')"
   ]
  },
  {
   "cell_type": "markdown",
   "metadata": {},
   "source": [
    "----\n",
    "**5. Write a Python function that accepts a string and calculates the number of upper case letters, the number of lower case letters, and the number of spaces.  The function should return a dictionary where the keys are \"upper\", \"lower\", and \"space\" and the value is the number of occurences.  See the example output below.**    \n",
    "(Hint:  check out what methods are available for strings.)  "
   ]
  },
  {
   "cell_type": "markdown",
   "metadata": {},
   "source": [
    " Example output:\n",
    "\n",
    "```\n",
    "In [1]: s = \"HELLO!! How are you today?\"\n",
    "        your_function(s)\n",
    "Out[1]: {'upper': 6, 'lower': 13, 'space': 4}\n",
    "\n",
    "```\n"
   ]
  },
  {
   "cell_type": "code",
   "execution_count": 66,
   "metadata": {},
   "outputs": [],
   "source": [
    "def string_count(string):\n",
    "    count_upper = sum(1 for n in string if n.isupper())\n",
    "    count_lower = sum(1 for n in string if n.islower())\n",
    "    count_spaces = sum(1 for n in string if n.isspace())\n",
    "    dic = {'upper': count_upper, 'lower': count_lower, 'space': count_spaces}\n",
    "    return dic"
   ]
  },
  {
   "cell_type": "code",
   "execution_count": 67,
   "metadata": {},
   "outputs": [
    {
     "data": {
      "text/plain": [
       "{'upper': 6, 'lower': 13, 'space': 4}"
      ]
     },
     "execution_count": 67,
     "metadata": {},
     "output_type": "execute_result"
    }
   ],
   "source": [
    "s = \"HELLO!! How are you today?\"\n",
    "string_count(s)"
   ]
  },
  {
   "cell_type": "code",
   "execution_count": 69,
   "metadata": {},
   "outputs": [
    {
     "data": {
      "text/plain": [
       "{'upper': 8, 'lower': 14, 'space': 9}"
      ]
     },
     "execution_count": 69,
     "metadata": {},
     "output_type": "execute_result"
    }
   ],
   "source": [
    "s = \"WOW!! My function is WoRkInG!!!     \"\n",
    "string_count(s)"
   ]
  },
  {
   "cell_type": "markdown",
   "metadata": {},
   "source": [
    "----\n",
    "**6. Write a Python function that accepts a string a returns a dictionary where the key word is a word length and the value is a list of all the words that are that word length.  See the example output below.**  "
   ]
  },
  {
   "cell_type": "markdown",
   "metadata": {},
   "source": [
    "Example output:\n",
    "\n",
    "```\n",
    "In [1]: s = \"It is a truth universally acknowledged that a single man in possession of a good fortune must be in want of a wife\"\n",
    "        \n",
    "In [2]: your_function(s)\n",
    "\n",
    "Out[2]: {1: ['a', 'a', 'a', 'a'],\n",
    "         2: ['It', 'is', 'in', 'of', 'be', 'in', 'of'],\n",
    "         3: ['man'],\n",
    "         4: ['that', 'good', 'must', 'want', 'wife'],\n",
    "         5: ['truth'],\n",
    "         6: ['single'],\n",
    "         7: ['fortune'],\n",
    "         10: ['possession'],\n",
    "         11: ['universally'],\n",
    "         12: ['acknowledged']}\n",
    "```"
   ]
  },
  {
   "cell_type": "code",
   "execution_count": 123,
   "metadata": {},
   "outputs": [],
   "source": [
    "import pprint\n",
    "\n",
    "def word_length(string):\n",
    "    # Split up the string into a list of words\n",
    "    split = string.split()\n",
    "    # Create an empty dictionary\n",
    "    dic = dict()\n",
    "    # Use a for loop to iterate through the words\n",
    "    # and construct the dict\n",
    "    for i in split:\n",
    "        length = len(i)\n",
    "        if length in dic:\n",
    "            # for some reason if I use .append(i) then I get an error\n",
    "            # 'set' object has no attribut 'append' even though I've checked\n",
    "            # it's type and it's definatly a dict. but I can't get it to add multiples\n",
    "            dic[length].add(i)\n",
    "        else:\n",
    "            dic[length] = {i}\n",
    "    return pprint.pprint(dic)\n"
   ]
  },
  {
   "cell_type": "code",
   "execution_count": 124,
   "metadata": {},
   "outputs": [
    {
     "name": "stdout",
     "output_type": "stream",
     "text": [
      "{1: {'a'},\n",
      " 2: {'is', 'It', 'of', 'in', 'be'},\n",
      " 3: {'man'},\n",
      " 4: {'want', 'that', 'wife', 'good', 'must'},\n",
      " 5: {'truth'},\n",
      " 6: {'single'},\n",
      " 7: {'fortune'},\n",
      " 10: {'possession'},\n",
      " 11: {'universally'},\n",
      " 12: {'acknowledged'}}\n"
     ]
    }
   ],
   "source": [
    "s = \"It is a truth universally acknowledged that a single man in possession of a good fortune must be in want of a wife\"\n",
    "word_length(s)"
   ]
  },
  {
   "cell_type": "code",
   "execution_count": null,
   "metadata": {},
   "outputs": [],
   "source": [
    "\n"
   ]
  },
  {
   "cell_type": "markdown",
   "metadata": {},
   "source": [
    "----\n",
    "**7.  Use a list comprehension to make a list all the numbers between 0 and 300 that have a 3 in them AND are divisible by 3. How many numbers are there?**"
   ]
  },
  {
   "cell_type": "code",
   "execution_count": 13,
   "metadata": {},
   "outputs": [
    {
     "data": {
      "text/plain": [
       "20"
      ]
     },
     "execution_count": 13,
     "metadata": {},
     "output_type": "execute_result"
    }
   ],
   "source": [
    "list = ['3' in str(number) and number % 3 == 0 for number in range(0, 301)]\n",
    "sum(list)"
   ]
  },
  {
   "cell_type": "code",
   "execution_count": null,
   "metadata": {},
   "outputs": [],
   "source": []
  },
  {
   "cell_type": "code",
   "execution_count": null,
   "metadata": {},
   "outputs": [],
   "source": []
  },
  {
   "cell_type": "markdown",
   "metadata": {},
   "source": [
    "----\n",
    "**8. In the following nested dictionaries, using indexing to grab the \"hello\"**"
   ]
  },
  {
   "cell_type": "code",
   "execution_count": 17,
   "metadata": {},
   "outputs": [],
   "source": [
    "d1 = {'k1':{'k2':'hello'}}"
   ]
  },
  {
   "cell_type": "code",
   "execution_count": 18,
   "metadata": {},
   "outputs": [
    {
     "data": {
      "text/plain": [
       "'hello'"
      ]
     },
     "execution_count": 18,
     "metadata": {},
     "output_type": "execute_result"
    }
   ],
   "source": [
    "#grab \"hello\"\n",
    "d1['k1']['k2']"
   ]
  },
  {
   "cell_type": "code",
   "execution_count": 22,
   "metadata": {},
   "outputs": [],
   "source": [
    "d2 = {'k1':[1,2,{'k2':['item',{'apple':[1,2,['hello']]}]}]}"
   ]
  },
  {
   "cell_type": "code",
   "execution_count": 32,
   "metadata": {},
   "outputs": [
    {
     "data": {
      "text/plain": [
       "'hello'"
      ]
     },
     "execution_count": 32,
     "metadata": {},
     "output_type": "execute_result"
    }
   ],
   "source": [
    "# grab \"hello\"\n",
    "d2['k1'][2]['k2'][1]['apple'][2][0]"
   ]
  },
  {
   "cell_type": "markdown",
   "metadata": {},
   "source": [
    "----\n",
    "**9. Write a function that takes as imput a string and a letter and outputs a list of only the words in the string that start with the given letter.**  \n",
    "\n",
    "Example Output:\n",
    "\n",
    "```\n",
    "In [1]: s = \"Sally said that she saw SIX flying seagulls by the shore\"\n",
    "\n",
    "In [2]: your_function(s, \"s\")\n",
    "Out[2]: ['Sally', 'said', 'she', 'saw', 'SIX', 'seagulls', 'shore']\n",
    "\n",
    "In [3]: your_function(s, \"t\")\n",
    "Out[3]: ['that', 'the']\n",
    "```\n",
    "\n",
    "Write the function in THREE different ways using the following  \n",
    "a.) a for loop  \n",
    "b.) a list comprehension  \n",
    "c.) a lambda expression along with the filter and list functions  "
   ]
  },
  {
   "cell_type": "code",
   "execution_count": 103,
   "metadata": {},
   "outputs": [],
   "source": [
    "# a.) for loop\n",
    "def for_loop(string, letter):\n",
    "    words = string.split()\n",
    "    list = []\n",
    "    for i in words:\n",
    "        if letter.lower() in i or letter.upper() in i:\n",
    "            list.append(i)\n",
    "    return list\n"
   ]
  },
  {
   "cell_type": "code",
   "execution_count": 104,
   "metadata": {},
   "outputs": [
    {
     "data": {
      "text/plain": [
       "['Sally', 'said', 'she', 'saw', 'SIX', 'seagulls', 'shore']"
      ]
     },
     "execution_count": 104,
     "metadata": {},
     "output_type": "execute_result"
    }
   ],
   "source": [
    "for_loop(\"Sally said that she saw SIX flying seagulls by the shore\", 's')"
   ]
  },
  {
   "cell_type": "code",
   "execution_count": 111,
   "metadata": {},
   "outputs": [
    {
     "data": {
      "text/plain": [
       "['that', 'the']"
      ]
     },
     "execution_count": 111,
     "metadata": {},
     "output_type": "execute_result"
    }
   ],
   "source": [
    "for_loop(\"Sally said that she saw SIX flying seagulls by the shore\", 't')"
   ]
  },
  {
   "cell_type": "code",
   "execution_count": 99,
   "metadata": {},
   "outputs": [],
   "source": [
    "# b.) list comprehension\n",
    "def list_comp(string, letter):\n",
    "    words = string.split()\n",
    "    list = [i for i in words if \n",
    "            letter.lower() in i or\n",
    "            letter.upper() in i]\n",
    "    return list"
   ]
  },
  {
   "cell_type": "code",
   "execution_count": 100,
   "metadata": {},
   "outputs": [
    {
     "data": {
      "text/plain": [
       "['Sally', 'said', 'she', 'saw', 'SIX', 'seagulls', 'shore']"
      ]
     },
     "execution_count": 100,
     "metadata": {},
     "output_type": "execute_result"
    }
   ],
   "source": [
    "list_comp(\"Sally said that she saw SIX flying seagulls by the shore\", 's')"
   ]
  },
  {
   "cell_type": "code",
   "execution_count": 112,
   "metadata": {},
   "outputs": [
    {
     "data": {
      "text/plain": [
       "['that', 'the']"
      ]
     },
     "execution_count": 112,
     "metadata": {},
     "output_type": "execute_result"
    }
   ],
   "source": [
    "list_comp(\"Sally said that she saw SIX flying seagulls by the shore\", 't')"
   ]
  },
  {
   "cell_type": "code",
   "execution_count": 122,
   "metadata": {},
   "outputs": [
    {
     "name": "stdout",
     "output_type": "stream",
     "text": [
      "Sally\n",
      "said\n",
      "she\n",
      "saw\n",
      "SIX\n",
      "seagulls\n",
      "shore\n"
     ]
    }
   ],
   "source": [
    "# c.) lambda function\n",
    "string = \"Sally said that she saw SIX flying seagulls by the shore\"\n",
    "words = string.split()\n",
    "letter = 's'\n",
    "ans = filter(lambda i: letter.lower() in i or letter.upper() in i, words)\n",
    "for i in ans:\n",
    "    print(i)"
   ]
  },
  {
   "cell_type": "code",
   "execution_count": 123,
   "metadata": {},
   "outputs": [
    {
     "name": "stdout",
     "output_type": "stream",
     "text": [
      "that\n",
      "the\n"
     ]
    }
   ],
   "source": [
    "string = \"Sally said that she saw SIX flying seagulls by the shore\"\n",
    "words = string.split()\n",
    "letter = 't'\n",
    "ans = filter(lambda i: letter.lower() in i or letter.upper() in i, words)\n",
    "for i in ans:\n",
    "    print(i)"
   ]
  },
  {
   "cell_type": "code",
   "execution_count": null,
   "metadata": {},
   "outputs": [],
   "source": []
  },
  {
   "cell_type": "markdown",
   "metadata": {},
   "source": [
    "----\n",
    "**10. Use a Jupyter magic function to determine which of the functions from problem 9 (if any) is the fastest.**"
   ]
  },
  {
   "cell_type": "code",
   "execution_count": 124,
   "metadata": {},
   "outputs": [
    {
     "name": "stdout",
     "output_type": "stream",
     "text": [
      "3.58 µs ± 55.6 ns per loop (mean ± std. dev. of 7 runs, 100000 loops each)\n"
     ]
    }
   ],
   "source": [
    "%%timeit\n",
    "for_loop(\"Sally said that she saw SIX flying seagulls by the shore\", 's')"
   ]
  },
  {
   "cell_type": "code",
   "execution_count": 125,
   "metadata": {},
   "outputs": [
    {
     "name": "stdout",
     "output_type": "stream",
     "text": [
      "3.52 µs ± 39.6 ns per loop (mean ± std. dev. of 7 runs, 100000 loops each)\n"
     ]
    }
   ],
   "source": [
    "%%timeit\n",
    "list_comp(\"Sally said that she saw SIX flying seagulls by the shore\", 's')"
   ]
  },
  {
   "cell_type": "code",
   "execution_count": 129,
   "metadata": {},
   "outputs": [
    {
     "name": "stdout",
     "output_type": "stream",
     "text": [
      "1.03 µs ± 20 ns per loop (mean ± std. dev. of 7 runs, 1000000 loops each)\n"
     ]
    }
   ],
   "source": [
    "%%timeit\n",
    "string = \"Sally said that she saw SIX flying seagulls by the shore\"\n",
    "words = string.split()\n",
    "letter = 's'\n",
    "ans = filter(lambda i: letter.lower() in i or letter.upper() in i, words)"
   ]
  },
  {
   "cell_type": "code",
   "execution_count": null,
   "metadata": {},
   "outputs": [],
   "source": [
    "# The lambda function is significantly faster."
   ]
  },
  {
   "cell_type": "code",
   "execution_count": null,
   "metadata": {},
   "outputs": [],
   "source": []
  },
  {
   "cell_type": "code",
   "execution_count": null,
   "metadata": {},
   "outputs": [],
   "source": []
  }
 ],
 "metadata": {
  "kernelspec": {
   "display_name": "Python 3",
   "language": "python",
   "name": "python3"
  },
  "language_info": {
   "codemirror_mode": {
    "name": "ipython",
    "version": 3
   },
   "file_extension": ".py",
   "mimetype": "text/x-python",
   "name": "python",
   "nbconvert_exporter": "python",
   "pygments_lexer": "ipython3",
   "version": "3.7.3"
  }
 },
 "nbformat": 4,
 "nbformat_minor": 2
}
